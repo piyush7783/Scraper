{
 "cells": [
  {
   "cell_type": "code",
   "execution_count": 55,
   "metadata": {},
   "outputs": [],
   "source": [
    "import re\n",
    "import csv\n",
    "import pandas as pd\n",
    "from bs4 import BeautifulSoup\n",
    "from urllib.request import Request, urlopen\n",
    "import requests"
   ]
  },
  {
   "cell_type": "code",
   "execution_count": 56,
   "metadata": {},
   "outputs": [
    {
     "name": "stdout",
     "output_type": "stream",
     "text": [
      "136\n"
     ]
    }
   ],
   "source": [
    "url=[]\n",
    "latitude=[]\n",
    "longitude=[]\n",
    "address=[]\n",
    "flag=0\n",
    "b=0\n",
    "while(flag != 1):\n",
    "    b+=1\n",
    "    final_url=\"https://www.zomato.com/kolkata/restaurants/mio-amore?page=\"+str(b)\n",
    "    #print(final_url)\n",
    "    try:\n",
    "        def connection():\n",
    "            return(requests.get(final_url,headers={'User-Agent': 'Mozilla/5.0'}))\n",
    "\n",
    "        req= connection()\n",
    "    except:\n",
    "        time.sleep(10)\n",
    "        req= connection()\n",
    "        \n",
    "    if( req.url != final_url):\n",
    "        flag=1\n",
    "        break\n",
    "        \n",
    "    bsobj=BeautifulSoup(req.text,\"lxml\")\n",
    "    \n",
    "    var= bsobj.findAll(\"div\",{\"class\":\"col-s-12\"})\n",
    "    for i in var:\n",
    "        var1=i.findAll(\"a\")\n",
    "        url.append(var1[-2].get(\"href\")+\"/maps#tabtop\")\n",
    "print(len(url))"
   ]
  },
  {
   "cell_type": "code",
   "execution_count": 57,
   "metadata": {},
   "outputs": [],
   "source": [
    "latitude=[]\n",
    "longitude=[]\n",
    "for i in range(len(url)):\n",
    "    try:\n",
    "        def connection1():\n",
    "            return(requests.get(url[i],headers={'User-Agent': 'Mozilla/5.0'}))\n",
    "\n",
    "        req1= connection1()\n",
    "    except:\n",
    "        time.sleep(10)\n",
    "        req1= connection1()\n",
    "\n",
    "    bsobj1=BeautifulSoup(req1.text,\"lxml\")\n",
    "    var2 = bsobj1.findAll(\"a\",{\"class\":\"mtop0\"})\n",
    "    for j in var2:\n",
    "        var3=j.get(\"href\")\n",
    "        lat_long_var=var3.split(\"//\")\n",
    "        lat_long_var=lat_long_var[-1]\n",
    "        lat,long=lat_long_var.split(\",\")\n",
    "        latitude.append(lat)\n",
    "        longitude.append(long)"
   ]
  },
  {
   "cell_type": "code",
   "execution_count": 52,
   "metadata": {},
   "outputs": [
    {
     "name": "stdout",
     "output_type": "stream",
     "text": [
      "Data inserted successfully\n"
     ]
    }
   ],
   "source": [
    "heading=[\"Name\",\"Latitude\",\"Longitude\"]\n",
    "combined_list=[]\n",
    "for i in range(len(latitude)):\n",
    "    local_list=[]\n",
    "    local_list.append(\"Mio Amore\")\n",
    "    local_list.append(latitude[i])\n",
    "    local_list.append(longitude[i])\n",
    "    combined_list.append(local_list)\n",
    "myFile = open('ccd_kathleen_mio amore_flurys_chaiwala(salt_lake).csv', 'a',newline='')\n",
    "with myFile:  \n",
    "   writer = csv.writer(myFile)\n",
    "   writer.writerows(combined_list)\n",
    "print(\"Data inserted successfully\")"
   ]
  }
 ],
 "metadata": {
  "kernelspec": {
   "display_name": "Python 3",
   "language": "python",
   "name": "python3"
  },
  "language_info": {
   "codemirror_mode": {
    "name": "ipython",
    "version": 3
   },
   "file_extension": ".py",
   "mimetype": "text/x-python",
   "name": "python",
   "nbconvert_exporter": "python",
   "pygments_lexer": "ipython3",
   "version": "3.7.2"
  }
 },
 "nbformat": 4,
 "nbformat_minor": 2
}
